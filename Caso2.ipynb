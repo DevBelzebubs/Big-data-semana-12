{
  "nbformat": 4,
  "nbformat_minor": 0,
  "metadata": {
    "colab": {
      "provenance": []
    },
    "kernelspec": {
      "name": "python3",
      "display_name": "Python 3"
    },
    "language_info": {
      "name": "python"
    }
  },
  "cells": [
    {
      "cell_type": "code",
      "source": [
        "from pyspark import SparkContext"
      ],
      "metadata": {
        "id": "XqK-P5WnXXez"
      },
      "execution_count": 19,
      "outputs": []
    },
    {
      "cell_type": "code",
      "source": [
        "sc2 = SparkContext.getOrCreate()"
      ],
      "metadata": {
        "id": "rhNlDG44Xjuq"
      },
      "execution_count": 20,
      "outputs": []
    },
    {
      "cell_type": "code",
      "source": [
        "frases = sc2.parallelize([\"mi nombre es \", \"pedro castillo\", \"soy inocente\"])"
      ],
      "metadata": {
        "id": "9fx7KbTKYxKL"
      },
      "execution_count": 28,
      "outputs": []
    },
    {
      "cell_type": "code",
      "source": [
        "mayusculas = frases.map(lambda x: x.upper())"
      ],
      "metadata": {
        "id": "ShWvWzxSY1Zr"
      },
      "execution_count": 29,
      "outputs": []
    },
    {
      "cell_type": "code",
      "source": [
        "mayusculas.collect()"
      ],
      "metadata": {
        "colab": {
          "base_uri": "https://localhost:8080/"
        },
        "id": "K4hm95G1Y4-r",
        "outputId": "25a8f5c2-ffdc-4b5e-fb46-f4a62e7ce1ea"
      },
      "execution_count": 31,
      "outputs": [
        {
          "output_type": "execute_result",
          "data": {
            "text/plain": [
              "['MI NOMBRE ES ', 'PEDRO CASTILLO', 'SOY INOCENTE']"
            ]
          },
          "metadata": {},
          "execution_count": 31
        }
      ]
    }
  ]
}