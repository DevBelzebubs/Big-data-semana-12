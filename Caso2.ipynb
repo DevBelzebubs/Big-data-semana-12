{
  "nbformat": 4,
  "nbformat_minor": 0,
  "metadata": {
    "colab": {
      "provenance": []
    },
    "kernelspec": {
      "name": "python3",
      "display_name": "Python 3"
    },
    "language_info": {
      "name": "python"
    }
  },
  "cells": [
    {
      "cell_type": "code",
      "source": [
        "from pyspark import SparkContext"
      ],
      "metadata": {
        "id": "XqK-P5WnXXez"
      },
      "execution_count": 19,
      "outputs": []
    },
    {
      "cell_type": "code",
      "source": [
        "sc2 = SparkContext.getOrCreate()"
      ],
      "metadata": {
        "id": "rhNlDG44Xjuq"
      },
      "execution_count": 20,
      "outputs": []
    },
    {
      "cell_type": "code",
      "source": [
        "numeros = sc2.parallelize([1, 2, 3, 4, 5])"
      ],
      "metadata": {
        "id": "yNa8I15oXl0S"
      },
      "execution_count": 21,
      "outputs": []
    },
    {
      "cell_type": "code",
      "source": [
        "cuadrados = numeros.map(lambda x: x ** 2)"
      ],
      "metadata": {
        "id": "BwXo_GEnXn9y"
      },
      "execution_count": 24,
      "outputs": []
    },
    {
      "cell_type": "code",
      "source": [
        "cuadrados.collect()"
      ],
      "metadata": {
        "colab": {
          "base_uri": "https://localhost:8080/"
        },
        "id": "JrLp_Tb-Xsc6",
        "outputId": "f5ba3fe1-e47e-45bb-f489-cba45367b569"
      },
      "execution_count": 25,
      "outputs": [
        {
          "output_type": "execute_result",
          "data": {
            "text/plain": [
              "[1, 4, 9, 16, 25]"
            ]
          },
          "metadata": {},
          "execution_count": 25
        }
      ]
    },
    {
      "cell_type": "code",
      "source": [
        "frases = sc2.parallelize([\"mi nombre es \", \"pedro castillo\", \"soy inocente\"])"
      ],
      "metadata": {
        "id": "9fx7KbTKYxKL"
      },
      "execution_count": 28,
      "outputs": []
    },
    {
      "cell_type": "code",
      "source": [
        "mayusculas = frases.map(lambda x: x.upper())"
      ],
      "metadata": {
        "id": "ShWvWzxSY1Zr"
      },
      "execution_count": 29,
      "outputs": []
    },
    {
      "cell_type": "code",
      "source": [
        "mayusculas.collect()"
      ],
      "metadata": {
        "id": "K4hm95G1Y4-r",
        "outputId": "25a8f5c2-ffdc-4b5e-fb46-f4a62e7ce1ea",
        "colab": {
          "base_uri": "https://localhost:8080/"
        }
      },
      "execution_count": 31,
      "outputs": [
        {
          "output_type": "execute_result",
          "data": {
            "text/plain": [
              "['MI NOMBRE ES ', 'PEDRO CASTILLO', 'SOY INOCENTE']"
            ]
          },
          "metadata": {},
          "execution_count": 31
        }
      ]
    }
  ]
}