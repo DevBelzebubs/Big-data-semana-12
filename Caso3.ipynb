{
  "nbformat": 4,
  "nbformat_minor": 0,
  "metadata": {
    "colab": {
      "provenance": []
    },
    "kernelspec": {
      "name": "python3",
      "display_name": "Python 3"
    },
    "language_info": {
      "name": "python"
    }
  },
  "cells": [
    {
      "cell_type": "code",
      "source": [
        "from pyspark import SparkContext"
      ],
      "metadata": {
        "id": "XqK-P5WnXXez"
      },
      "execution_count": 19,
      "outputs": []
    },
    {
      "cell_type": "code",
      "source": [
        "aumento = sc2.parallelize([10, 20, 30, 40])"
      ],
      "metadata": {
        "id": "qO9nSFevZ9_R"
      },
      "execution_count": 32,
      "outputs": []
    },
    {
      "cell_type": "code",
      "source": [
        "resultado_aumento = aumento.map(lambda x: x + 10)"
      ],
      "metadata": {
        "id": "Hnhp_O66aApB"
      },
      "execution_count": 34,
      "outputs": []
    },
    {
      "cell_type": "code",
      "source": [
        "resultado_aumento.collect()"
      ],
      "metadata": {
        "id": "yDLJLksZaDLZ",
        "outputId": "2e5ca45c-e105-4d6e-afe5-73122099d901",
        "colab": {
          "base_uri": "https://localhost:8080/"
        }
      },
      "execution_count": 35,
      "outputs": [
        {
          "output_type": "execute_result",
          "data": {
            "text/plain": [
              "[20, 30, 40, 50]"
            ]
          },
          "metadata": {},
          "execution_count": 35
        }
      ]
    }
  ]
}