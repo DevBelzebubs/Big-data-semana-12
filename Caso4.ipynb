{
  "nbformat": 4,
  "nbformat_minor": 0,
  "metadata": {
    "colab": {
      "provenance": []
    },
    "kernelspec": {
      "name": "python3",
      "display_name": "Python 3"
    },
    "language_info": {
      "name": "python"
    }
  },
  "cells": [
    {
      "cell_type": "code",
      "source": [
        "from pyspark import SparkContext"
      ],
      "metadata": {
        "id": "XqK-P5WnXXez"
      },
      "execution_count": 19,
      "outputs": []
    },
    {
      "cell_type": "code",
      "source": [
        "palabras = sc2.parallelize([\"Python\", \"Spark\", \"RDD\", \"map\"])"
      ],
      "metadata": {
        "id": "IVFxf-ptaSWp"
      },
      "execution_count": 36,
      "outputs": []
    },
    {
      "cell_type": "code",
      "source": [
        "longitudes = palabras.map(lambda x: len(x))"
      ],
      "metadata": {
        "id": "nI4oXsvkaUNx"
      },
      "execution_count": 38,
      "outputs": []
    },
    {
      "cell_type": "code",
      "source": [
        "longitudes.collect()"
      ],
      "metadata": {
        "id": "lz8WRbXuaVa6",
        "outputId": "6280c517-1d07-4036-f22e-c889a89aea33",
        "colab": {
          "base_uri": "https://localhost:8080/"
        }
      },
      "execution_count": 39,
      "outputs": [
        {
          "output_type": "execute_result",
          "data": {
            "text/plain": [
              "[6, 5, 3, 3]"
            ]
          },
          "metadata": {},
          "execution_count": 39
        }
      ]
    }
  ]
}