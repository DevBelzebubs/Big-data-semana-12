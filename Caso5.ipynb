{
  "nbformat": 4,
  "nbformat_minor": 0,
  "metadata": {
    "colab": {
      "provenance": []
    },
    "kernelspec": {
      "name": "python3",
      "display_name": "Python 3"
    },
    "language_info": {
      "name": "python"
    }
  },
  "cells": [
    {
      "cell_type": "code",
      "source": [
        "from pyspark import SparkContext"
      ],
      "metadata": {
        "id": "XqK-P5WnXXez"
      },
      "execution_count": 19,
      "outputs": []
    },
    {
      "cell_type": "code",
      "source": [
        "lista1 = sc2.parallelize([1, 2, 3])"
      ],
      "metadata": {
        "id": "PSijw_mGa6Ea"
      },
      "execution_count": 40,
      "outputs": []
    },
    {
      "cell_type": "code",
      "source": [
        "lista2 = sc2.parallelize([10, 20, 30])"
      ],
      "metadata": {
        "id": "k8skrC2aa94y"
      },
      "execution_count": 41,
      "outputs": []
    },
    {
      "cell_type": "code",
      "source": [
        "producto = lista1.zip(lista2).map(lambda x: x[0] * x[1])"
      ],
      "metadata": {
        "id": "n6xVWct7bAXB"
      },
      "execution_count": 42,
      "outputs": []
    },
    {
      "cell_type": "code",
      "source": [
        "producto.collect()"
      ],
      "metadata": {
        "id": "cHPl1fOWbBbx",
        "outputId": "bcb1d25c-78c2-4c93-9b09-33d4c435e76a",
        "colab": {
          "base_uri": "https://localhost:8080/"
        }
      },
      "execution_count": 43,
      "outputs": [
        {
          "output_type": "execute_result",
          "data": {
            "text/plain": [
              "[10, 40, 90]"
            ]
          },
          "metadata": {},
          "execution_count": 43
        }
      ]
    }
  ]
}