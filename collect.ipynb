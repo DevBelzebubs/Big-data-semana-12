from pyspark import SparkContext

sc = SparkContext.getOrCreate()

palabras = sc.parallelize(["manzana", "naranja", "banana", "uva"])

lista_palabras = palabras.collect()

print(lista_palabras)
