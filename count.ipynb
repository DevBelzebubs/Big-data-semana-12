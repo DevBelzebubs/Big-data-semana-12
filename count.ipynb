from pyspark import SparkContext

# Crear o reutilizar un contexto de Spark
sc = SparkContext.getOrCreate()

# Crear un RDD con una lista de números
numeros = sc.parallelize([10, 20, 30, 40, 50])

# Utilizar la acción count para contar los elementos del RDD
total_elementos = numeros.count()

# Mostrar el resultado
print(total_elementos)
