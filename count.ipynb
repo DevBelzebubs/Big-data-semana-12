from pyspark import SparkContext

sc = SparkContext.getOrCreate()

numeros = sc.parallelize([10, 20, 30, 40, 50])

total_elementos = numeros.count()

print(total_elementos)
