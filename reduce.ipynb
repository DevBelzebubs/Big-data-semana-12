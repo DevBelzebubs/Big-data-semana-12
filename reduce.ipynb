from pyspark import SparkContext

sc = SparkContext.getOrCreate()

numeros = sc.parallelize([1, 2, 3, 4, 5])

suma = numeros.reduce(lambda a, b: a + b)

print(suma)
