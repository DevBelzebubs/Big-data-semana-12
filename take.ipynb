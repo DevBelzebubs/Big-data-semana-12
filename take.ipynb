from pyspark import SparkContext

sc = SparkContext.getOrCreate()

numeros = sc.parallelize([10, 20, 30, 40, 50, 60, 70])

primeros_tres = numeros.take(3)

print(primeros_tres)
