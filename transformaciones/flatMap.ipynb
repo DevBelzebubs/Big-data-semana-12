{
  "nbformat": 4,
  "nbformat_minor": 0,
  "metadata": {
    "colab": {
      "provenance": []
    },
    "kernelspec": {
      "name": "python3",
      "display_name": "Python 3"
    },
    "language_info": {
      "name": "python"
    }
  },
  "cells": [
    {
      "cell_type": "code",
      "execution_count": 1,
      "metadata": {
        "id": "2ikVgsZkhjtw"
      },
      "outputs": [],
      "source": [
        "from pyspark.context import SparkContext"
      ]
    },
    {
      "cell_type": "code",
      "source": [
        "sc = SparkContext('local', 'test')"
      ],
      "metadata": {
        "id": "3diE777Gh2Cl"
      },
      "execution_count": 3,
      "outputs": []
    },
    {
      "cell_type": "code",
      "source": [
        "rdd = sc.parallelize([1, 2, 3])"
      ],
      "metadata": {
        "id": "8JAwitDZjdI1"
      },
      "execution_count": 6,
      "outputs": []
    },
    {
      "cell_type": "code",
      "source": [
        "result = rdd.flatMap(lambda x: (x, x * 2)).collect()  # [1, 2, 2, 4, 3, 6]"
      ],
      "metadata": {
        "id": "ASQeDnhPjpFc"
      },
      "execution_count": 7,
      "outputs": []
    }
  ]
}